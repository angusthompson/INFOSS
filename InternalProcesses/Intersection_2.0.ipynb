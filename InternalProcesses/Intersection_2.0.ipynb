{
 "cells": [
  {
   "cell_type": "code",
   "execution_count": 2,
   "id": "1f900cac",
   "metadata": {},
   "outputs": [],
   "source": [
    "from pylab import *\n",
    "from scipy import special\n",
    "import numpy\n",
    "import csv\n",
    "from IPython.display import clear_output, display\n",
    "import numpy as np\n",
    "import matplotlib.pyplot as plt"
   ]
  },
  {
   "cell_type": "code",
   "execution_count": 3,
   "id": "57a18594",
   "metadata": {},
   "outputs": [],
   "source": [
    "interceptr = []\n",
    "interceptphi = []"
   ]
  },
  {
   "cell_type": "code",
   "execution_count": 4,
   "id": "708b8462",
   "metadata": {},
   "outputs": [
    {
     "ename": "NameError",
     "evalue": "name 'qcart1' is not defined",
     "output_type": "error",
     "traceback": [
      "\u001b[1;31m---------------------------------------------------------------------------\u001b[0m",
      "\u001b[1;31mNameError\u001b[0m                                 Traceback (most recent call last)",
      "\u001b[1;32m<ipython-input-4-7cb71eaf28a8>\u001b[0m in \u001b[0;36m<module>\u001b[1;34m\u001b[0m\n\u001b[1;32m----> 1\u001b[1;33m \u001b[0mqcart\u001b[0m \u001b[1;33m=\u001b[0m \u001b[0mqcart1\u001b[0m\u001b[1;33m\u001b[0m\u001b[1;33m\u001b[0m\u001b[0m\n\u001b[0m\u001b[0;32m      2\u001b[0m \u001b[0mpcart\u001b[0m \u001b[1;33m=\u001b[0m \u001b[0mpcart1\u001b[0m\u001b[1;33m\u001b[0m\u001b[1;33m\u001b[0m\u001b[0m\n",
      "\u001b[1;31mNameError\u001b[0m: name 'qcart1' is not defined"
     ]
    }
   ],
   "source": [
    "qcart = qcart1\n",
    "pcart = pcart1"
   ]
  },
  {
   "cell_type": "code",
   "execution_count": null,
   "id": "2795a942",
   "metadata": {},
   "outputs": [],
   "source": [
    "%run InternalProcesses/GeodesicIntegrator1.0.ipynb"
   ]
  },
  {
   "cell_type": "code",
   "execution_count": null,
   "id": "38d8dd15",
   "metadata": {},
   "outputs": [],
   "source": [
    "result = geodesic_integrator(N,delta,omega,q0,p0,Param,order=2)\n",
    "\n",
    "measvar = 0\n",
    "allrval = []\n",
    "allphival = []\n",
    "\n",
    "for stepnumber in range(N):\n",
    "    subres1 = (result[stepnumber])\n",
    "    subres2 = (subres1[measvar])\n",
    "    \n",
    "    allrval.append(subres2[1])\n",
    "    allphival.append(subres2[3])\n",
    "    \n",
    "rval1 = []\n",
    "phival1 = []\n",
    "stepnum = 0\n",
    "\n",
    "while allrval[stepnum] > 2*M and stepnum < N-1:\n",
    "    rval1.append(allrval[stepnum])\n",
    "    phival1.append(allphival[stepnum])\n",
    "    stepnum = stepnum + 1\n",
    "else:\n",
    "    print('list complete')"
   ]
  },
  {
   "cell_type": "code",
   "execution_count": null,
   "id": "20841cfa",
   "metadata": {},
   "outputs": [],
   "source": [
    "qcart = qcart2\n",
    "pcart = pcart2"
   ]
  },
  {
   "cell_type": "code",
   "execution_count": null,
   "id": "a86f1f9d",
   "metadata": {},
   "outputs": [],
   "source": [
    "%run InternalProcesses/GeodesicIntegrator1.0.ipynb"
   ]
  },
  {
   "cell_type": "code",
   "execution_count": null,
   "id": "3440ef6c",
   "metadata": {
    "scrolled": true
   },
   "outputs": [],
   "source": [
    "result = geodesic_integrator(N,delta,omega,q0,p0,Param,order=2)\n",
    "\n",
    "measvar = 0\n",
    "allrval = []\n",
    "allphival = []\n",
    "\n",
    "interceptr = []\n",
    "interceptphi = []\n",
    "\n",
    "for stepnumber in range(N):\n",
    "    subres1 = (result[stepnumber])\n",
    "    subres2 = (subres1[measvar])\n",
    "    \n",
    "    allrval.append(subres2[1])\n",
    "    allphival.append(subres2[3])\n",
    "    \n",
    "rval2 = []\n",
    "phival2 = []\n",
    "stepnum = 0\n",
    "\n",
    "while allrval[stepnum] > 2*M and stepnum < N-1:\n",
    "    rval2.append(allrval[stepnum])\n",
    "    phival2.append(allphival[stepnum])\n",
    "    stepnum = stepnum + 1"
   ]
  },
  {
   "cell_type": "code",
   "execution_count": null,
   "id": "22bd0d04",
   "metadata": {},
   "outputs": [],
   "source": [
    "Num1 = 0\n",
    "Num2 = 0\n",
    "interceptr = []\n",
    "interceptphi = []\n",
    "\n",
    "for Num1 in range(2, len(rval1)-1, 1):\n",
    "    for Num2 in range(2, len(rval2)-1, 1):\n",
    "        if phival1[Num1] - phival2[Num2] < 0 and phival1[Num1-1] - phival2[Num2-1] > 0:\n",
    "            if round(rval1[Num1] - rval2[Num2], dp) == 0:\n",
    "                phiint = (phival1[Num1]+phival1[Num1-1])/2\n",
    "                rint = (rval1[Num1]+rval1[Num1-1])/2\n",
    "                for existingr in range(len(interceptr)):\n",
    "                    if phiint - interceptphi[existingr] > 1 and rint - interceptr[existingr] > 1:\n",
    "                        interceptphi.append(phiint)\n",
    "                        interceptr.append(rint)\n",
    "                if len(interceptr) == 0:\n",
    "                        interceptphi.append(phiint)\n",
    "                        interceptr.append(rint)\n",
    "        if phival1[Num1] - phival2[Num2] - 2*pi < 0 and phival1[Num1-1] - phival2[Num2-1] - 2*pi > 0:\n",
    "            if round(rval1[Num1] - rval2[Num2], dp) == 0:\n",
    "                phiint = (phival1[Num1]+phival1[Num1-1])/2\n",
    "                rint = (rval1[Num1]+rval1[Num1-1])/2\n",
    "                for existingr in range(len(interceptr)):\n",
    "                    if phiint - interceptphi[existingr] > 1 and rint - interceptr[existingr] > 1:\n",
    "                        interceptphi.append(phiint)\n",
    "                        interceptr.append(rint)\n",
    "                    if len(interceptr) == 0:\n",
    "                        interceptphi.append(phiint)\n",
    "                        interceptr.append(rint)\n",
    "        if phival1[Num1] - phival2[Num2] + 2*pi < 0 and phival1[Num1-1] - phival2[Num2-1] + 2*pi > 0: \n",
    "            if round(rval1[Num1] - rval2[Num2], dp) == 0:\n",
    "                phiint = (phival1[Num1]+phival1[Num1-1])/2\n",
    "                rint = (rval1[Num1]+rval1[Num1-1])/2\n",
    "                for existingr in range(len(interceptr)):\n",
    "                    if phiint - interceptphi[existingr] > 1 and rint - interceptr[existingr] > 1:\n",
    "                        interceptphi.append(phiint)\n",
    "                        interceptr.append(rint)\n",
    "                            \n",
    "if len(interceptr) < 1:\n",
    "    dp = dp - 1\n",
    "    for Num1 in range(2, len(rval1)-1, 1):\n",
    "        for Num2 in range(2, len(rval2)-1, 1):\n",
    "            if phival1[Num1] - phival2[Num2] < 0 and phival1[Num1-1] - phival2[Num2-1] > 0:\n",
    "                if round(rval1[Num1] - rval2[Num2], dp) == 0:\n",
    "                    phiint = (phival1[Num1]+phival1[Num1-1])/2\n",
    "                    rint = (rval1[Num1]+rval1[Num1-1])/2\n",
    "                    for existingr in range(len(interceptr)):\n",
    "                        if phiint - interceptphi[existingr] > 1 and rint - interceptr[existingr] > 1:\n",
    "                            interceptphi.append(phiint)\n",
    "                            interceptr.append(rint)\n",
    "                    if len(interceptr) == 0:\n",
    "                            interceptphi.append(phiint)\n",
    "                            interceptr.append(rint)\n",
    "            if phival1[Num1] - phival2[Num2] - 2*pi < 0 and phival1[Num1-1] - phival2[Num2-1] - 2*pi > 0:\n",
    "                if round(rval1[Num1] - rval2[Num2], dp) == 0:\n",
    "                    phiint = (phival1[Num1]+phival1[Num1-1])/2\n",
    "                    rint = (rval1[Num1]+rval1[Num1-1])/2\n",
    "                    for existingr in range(len(interceptr)):\n",
    "                        if phiint - interceptphi[existingr] > 1 and rint - interceptr[existingr] > 1:\n",
    "                            interceptphi.append(phiint)\n",
    "                            interceptr.append(rint)\n",
    "                    if len(interceptr) == 0:\n",
    "                            interceptphi.append(phiint)\n",
    "                            interceptr.append(rint)\n",
    "            if phival1[Num1] - phival2[Num2] + 2*pi < 0 and phival1[Num1-1] - phival2[Num2-1] + 2*pi > 0: \n",
    "                if round(rval1[Num1] - rval2[Num2], dp) == 0:\n",
    "                    phiint = (phival1[Num1]+phival1[Num1-1])/2\n",
    "                    rint = (rval1[Num1]+rval1[Num1-1])/2\n",
    "                    for existingr in range(len(interceptr)):\n",
    "                        if phiint - interceptphi[existingr] > 1 and rint - interceptr[existingr] > 1:\n",
    "                            interceptphi.append(phiint)\n",
    "                            interceptr.append(rint)\n",
    "                            \n",
    "if len(interceptr) < 1:\n",
    "    dp = dp - 1\n",
    "    for Num1 in range(2, len(rval1)-1, 1):\n",
    "        for Num2 in range(2, len(rval2)-1, 1):\n",
    "            if phival1[Num1] - phival2[Num2] < 0 and phival1[Num1-1] - phival2[Num2-1] > 0:\n",
    "                if round(rval1[Num1] - rval2[Num2], dp) == 0:\n",
    "                    phiint = (phival1[Num1]+phival1[Num1-1])/2\n",
    "                    rint = (rval1[Num1]+rval1[Num1-1])/2\n",
    "                    for existingr in range(len(interceptr)):\n",
    "                        if phiint - interceptphi[existingr] > 1 and rint - interceptr[existingr] > 1:\n",
    "                            interceptphi.append(phiint)\n",
    "                            interceptr.append(rint)\n",
    "                    if len(interceptr) == 0:\n",
    "                            interceptphi.append(phiint)\n",
    "                            interceptr.append(rint)\n",
    "            if phival1[Num1] - phival2[Num2] - 2*pi < 0 and phival1[Num1-1] - phival2[Num2-1] - 2*pi > 0:\n",
    "                if round(rval1[Num1] - rval2[Num2], dp) == 0:\n",
    "                    phiint = (phival1[Num1]+phival1[Num1-1])/2\n",
    "                    rint = (rval1[Num1]+rval1[Num1-1])/2\n",
    "                    for existingr in range(len(interceptr)):\n",
    "                        if phiint - interceptphi[existingr] > 1 and rint - interceptr[existingr] > 1:\n",
    "                            interceptphi.append(phiint)\n",
    "                            interceptr.append(rint)\n",
    "                    if len(interceptr) == 0:\n",
    "                            interceptphi.append(phiint)\n",
    "                            interceptr.append(rint)\n",
    "            if phival1[Num1] - phival2[Num2] + 2*pi < 0 and phival1[Num1-1] - phival2[Num2-1] + 2*pi > 0: \n",
    "                if round(rval1[Num1] - rval2[Num2], dp) == 0:\n",
    "                    phiint = (phival1[Num1]+phival1[Num1-1])/2\n",
    "                    rint = (rval1[Num1]+rval1[Num1-1])/2\n",
    "                    for existingr in range(len(interceptr)):\n",
    "                        if phiint - interceptphi[existingr] > 1 and rint - interceptr[existingr] > 1:\n",
    "                            interceptphi.append(phiint)\n",
    "                            interceptr.append(rint)"
   ]
  },
  {
   "cell_type": "code",
   "execution_count": 5,
   "id": "b0d94214",
   "metadata": {},
   "outputs": [
    {
     "ename": "NameError",
     "evalue": "name 'qcart1' is not defined",
     "output_type": "error",
     "traceback": [
      "\u001b[1;31m---------------------------------------------------------------------------\u001b[0m",
      "\u001b[1;31mNameError\u001b[0m                                 Traceback (most recent call last)",
      "\u001b[1;32m<ipython-input-5-01b0fba77dbf>\u001b[0m in \u001b[0;36m<module>\u001b[1;34m\u001b[0m\n\u001b[0;32m      9\u001b[0m \u001b[0mneutrinomass2\u001b[0m \u001b[1;33m=\u001b[0m \u001b[1;36m0.05\u001b[0m\u001b[1;33m\u001b[0m\u001b[1;33m\u001b[0m\u001b[0m\n\u001b[0;32m     10\u001b[0m \u001b[1;33m\u001b[0m\u001b[0m\n\u001b[1;32m---> 11\u001b[1;33m \u001b[0mq01\u001b[0m \u001b[1;33m=\u001b[0m \u001b[1;33m(\u001b[0m\u001b[0mqcart1\u001b[0m\u001b[1;33m[\u001b[0m\u001b[1;36m1\u001b[0m\u001b[1;33m]\u001b[0m\u001b[1;33m**\u001b[0m\u001b[1;36m2\u001b[0m \u001b[1;33m+\u001b[0m \u001b[0mqcart1\u001b[0m\u001b[1;33m[\u001b[0m\u001b[1;36m2\u001b[0m\u001b[1;33m]\u001b[0m\u001b[1;33m**\u001b[0m\u001b[1;36m2\u001b[0m \u001b[1;33m+\u001b[0m \u001b[0mqcart1\u001b[0m\u001b[1;33m[\u001b[0m\u001b[1;36m3\u001b[0m\u001b[1;33m]\u001b[0m\u001b[1;33m**\u001b[0m\u001b[1;36m2\u001b[0m\u001b[1;33m)\u001b[0m\u001b[1;33m**\u001b[0m\u001b[1;33m(\u001b[0m\u001b[1;36m1\u001b[0m\u001b[1;33m/\u001b[0m\u001b[1;36m2\u001b[0m\u001b[1;33m)\u001b[0m\u001b[1;33m\u001b[0m\u001b[1;33m\u001b[0m\u001b[0m\n\u001b[0m\u001b[0;32m     12\u001b[0m \u001b[0mq02\u001b[0m \u001b[1;33m=\u001b[0m \u001b[1;33m(\u001b[0m\u001b[0mqcart2\u001b[0m\u001b[1;33m[\u001b[0m\u001b[1;36m1\u001b[0m\u001b[1;33m]\u001b[0m\u001b[1;33m**\u001b[0m\u001b[1;36m2\u001b[0m \u001b[1;33m+\u001b[0m \u001b[0mqcart2\u001b[0m\u001b[1;33m[\u001b[0m\u001b[1;36m2\u001b[0m\u001b[1;33m]\u001b[0m\u001b[1;33m**\u001b[0m\u001b[1;36m2\u001b[0m \u001b[1;33m+\u001b[0m \u001b[0mqcart2\u001b[0m\u001b[1;33m[\u001b[0m\u001b[1;36m3\u001b[0m\u001b[1;33m]\u001b[0m\u001b[1;33m**\u001b[0m\u001b[1;36m2\u001b[0m\u001b[1;33m)\u001b[0m\u001b[1;33m**\u001b[0m\u001b[1;33m(\u001b[0m\u001b[1;36m1\u001b[0m\u001b[1;33m/\u001b[0m\u001b[1;36m2\u001b[0m\u001b[1;33m)\u001b[0m\u001b[1;33m\u001b[0m\u001b[1;33m\u001b[0m\u001b[0m\n\u001b[0;32m     13\u001b[0m \u001b[1;33m\u001b[0m\u001b[0m\n",
      "\u001b[1;31mNameError\u001b[0m: name 'qcart1' is not defined"
     ]
    }
   ],
   "source": [
    "import scipy.integrate as integrate\n",
    "import scipy.special as special\n",
    "\n",
    "oscprobint1 = 0\n",
    "oscprobint2 = 0\n",
    "\n",
    "q01 = (qcart1[1]**2 + qcart1[2]**2 + qcart1[3]**2)**(1/2)\n",
    "q02 = (qcart2[1]**2 + qcart2[2]**2 + qcart2[3]**2)**(1/2)\n",
    "\n",
    "oscprobintersections = []\n",
    "\n",
    "for intersects in range(len(interceptr)):\n",
    "    oscprobint1a = integrate.quad(lambda r : ((1-(1-2*M/r)*(qcart1[2]**2/r**2))**(-1/2)), q01, interceptr[intersects])\n",
    "    oscprob1a = oscprobint1a[0]*((neutrinomassa**2)/(2*(pcart1[3]**2)))\n",
    "     \n",
    "    oscprobint1b = integrate.quad(lambda r : ((1-(1-2*M/r)*(qcart1[2]**2/r**2))**(-1/2)), q01, interceptr[intersects])\n",
    "    oscprob1b = oscprobint1b[0]*((neutrinomassb**2)/(2*(pcart1[3]**2)))\n",
    "\n",
    "    oscprobint2a = integrate.quad(lambda r : ((1-(1-2*M/r)*(qcart2[2]**2/r**2))**(-1/2)), q02, interceptr[intersects])\n",
    "    oscprob2a = oscprobint2a[0]*((neutrinomassa**2)/(2*(pcart2[3]**2)))\n",
    "    \n",
    "    oscprobint2b = integrate.quad(lambda r : ((1-(1-2*M/r)*(qcart2[2]**2/r**2))**(-1/2)), q02, interceptr[intersects])\n",
    "    oscprob2b = oscprobint2b[0]*((neutrinomassb**2)/(2*(pcart2[3]**2)))\n",
    "    \n",
    "    op1a = oscprob1a\n",
    "    op1b = oscprob1b\n",
    "    op2a = oscprob2a\n",
    "    op2b = oscprob2b\n",
    "\n",
    "    oscprobintersection = (1/2)*(cos(mixang)**2)*(sin(mixang)**2)*(2+cos(op1a-op2a)+cos(op2a-op2b)-cos(op1b-op1a)-cos(op2b-op2a)-cos(op1b-op2a)-cos(op2b-op1a))\n",
    "    oscprobintersections.append(oscprobintersection)\n",
    "    \n",
    "finalresults = []\n",
    "\n",
    "finalresults.append(interceptr)\n",
    "finalresults.append(interceptphi)\n",
    "finalresults.append(oscprobintersections)"
   ]
  },
  {
   "cell_type": "code",
   "execution_count": 6,
   "id": "57bf2b1d",
   "metadata": {},
   "outputs": [
    {
     "name": "stdout",
     "output_type": "stream",
     "text": [
      "-1.0\n"
     ]
    }
   ],
   "source": [
    "print(cos(pi))"
   ]
  },
  {
   "cell_type": "code",
   "execution_count": null,
   "id": "bb26e226",
   "metadata": {},
   "outputs": [],
   "source": []
  }
 ],
 "metadata": {
  "kernelspec": {
   "display_name": "Python 3",
   "language": "python",
   "name": "python3"
  },
  "language_info": {
   "codemirror_mode": {
    "name": "ipython",
    "version": 3
   },
   "file_extension": ".py",
   "mimetype": "text/x-python",
   "name": "python",
   "nbconvert_exporter": "python",
   "pygments_lexer": "ipython3",
   "version": "3.8.8"
  }
 },
 "nbformat": 4,
 "nbformat_minor": 5
}
